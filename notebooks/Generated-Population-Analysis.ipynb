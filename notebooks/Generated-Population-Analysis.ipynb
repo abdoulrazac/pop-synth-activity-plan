{
 "cells": [
  {
   "metadata": {},
   "cell_type": "markdown",
   "source": "## Generated Population Analysis",
   "id": "f866430aa18d8f93"
  },
  {
   "cell_type": "code",
   "id": "initial_id",
   "metadata": {
    "collapsed": true,
    "ExecuteTime": {
     "end_time": "2025-05-01T11:08:44.473586Z",
     "start_time": "2025-05-01T11:08:43.662204Z"
    }
   },
   "source": [
    "# Import necessary libraries\n",
    "\n",
    "import pandas as pd\n",
    "import numpy as np\n",
    "import plotnine as gg"
   ],
   "outputs": [],
   "execution_count": 2
  },
  {
   "metadata": {
    "ExecuteTime": {
     "end_time": "2025-05-01T11:08:44.828738Z",
     "start_time": "2025-05-01T11:08:44.819733Z"
    }
   },
   "cell_type": "code",
   "source": [
    "# Constants\n",
    "DATA_DIR = \"../artifact/LSTM/04_30_2025_15_55_12\"\n",
    "FILE_NAME = \"1_False_None_decoded.parquet\""
   ],
   "id": "d0b51e6083219550",
   "outputs": [],
   "execution_count": 3
  },
  {
   "metadata": {
    "ExecuteTime": {
     "end_time": "2025-05-01T11:09:09.023207Z",
     "start_time": "2025-05-01T11:09:08.971559Z"
    }
   },
   "cell_type": "code",
   "source": [
    "df = pd.read_parquet(f\"{DATA_DIR}/generated/{FILE_NAME}\")\n",
    "test = df.iloc[:, :5].head(10)\n",
    "test"
   ],
   "id": "703cee6aa0946c3b",
   "outputs": [
    {
     "data": {
      "text/plain": [
       "          house_occupation_type    number_of_vehicles    household_size  \\\n",
       "0  house_occupation_type_renter  number_of_vehicles_1  household_size_2   \n",
       "1  house_occupation_type_renter  number_of_vehicles_0  household_size_2   \n",
       "2  house_occupation_type_renter  number_of_vehicles_2  household_size_4   \n",
       "3  house_occupation_type_renter  number_of_vehicles_0  household_size_1   \n",
       "4  house_occupation_type_renter  number_of_vehicles_1  household_size_2   \n",
       "5   house_occupation_type_owner  number_of_vehicles_1  household_size_2   \n",
       "6   house_occupation_type_owner  number_of_vehicles_2  household_size_5   \n",
       "7  house_occupation_type_renter  number_of_vehicles_1  household_size_1   \n",
       "8  house_occupation_type_renter  number_of_vehicles_1  household_size_1   \n",
       "9  house_occupation_type_renter  number_of_vehicles_2  household_size_5   \n",
       "\n",
       "              house_type      number_of_bikes  \n",
       "0  house_type_little_col  number_of_bikes_1-2  \n",
       "1     house_type_big_col    number_of_bikes_0  \n",
       "2     house_type_big_col  number_of_bikes_1-2  \n",
       "3  house_type_little_col    number_of_bikes_0  \n",
       "4  house_type_little_col    number_of_bikes_0  \n",
       "5     house_type_big_col    number_of_bikes_0  \n",
       "6     house_type_big_col  number_of_bikes_1-2  \n",
       "7     house_type_big_col    number_of_bikes_0  \n",
       "8     house_type_big_col   number_of_bikes_5+  \n",
       "9     house_type_big_col  number_of_bikes_1-2  "
      ],
      "text/html": [
       "<div>\n",
       "<style scoped>\n",
       "    .dataframe tbody tr th:only-of-type {\n",
       "        vertical-align: middle;\n",
       "    }\n",
       "\n",
       "    .dataframe tbody tr th {\n",
       "        vertical-align: top;\n",
       "    }\n",
       "\n",
       "    .dataframe thead th {\n",
       "        text-align: right;\n",
       "    }\n",
       "</style>\n",
       "<table border=\"1\" class=\"dataframe\">\n",
       "  <thead>\n",
       "    <tr style=\"text-align: right;\">\n",
       "      <th></th>\n",
       "      <th>house_occupation_type</th>\n",
       "      <th>number_of_vehicles</th>\n",
       "      <th>household_size</th>\n",
       "      <th>house_type</th>\n",
       "      <th>number_of_bikes</th>\n",
       "    </tr>\n",
       "  </thead>\n",
       "  <tbody>\n",
       "    <tr>\n",
       "      <th>0</th>\n",
       "      <td>house_occupation_type_renter</td>\n",
       "      <td>number_of_vehicles_1</td>\n",
       "      <td>household_size_2</td>\n",
       "      <td>house_type_little_col</td>\n",
       "      <td>number_of_bikes_1-2</td>\n",
       "    </tr>\n",
       "    <tr>\n",
       "      <th>1</th>\n",
       "      <td>house_occupation_type_renter</td>\n",
       "      <td>number_of_vehicles_0</td>\n",
       "      <td>household_size_2</td>\n",
       "      <td>house_type_big_col</td>\n",
       "      <td>number_of_bikes_0</td>\n",
       "    </tr>\n",
       "    <tr>\n",
       "      <th>2</th>\n",
       "      <td>house_occupation_type_renter</td>\n",
       "      <td>number_of_vehicles_2</td>\n",
       "      <td>household_size_4</td>\n",
       "      <td>house_type_big_col</td>\n",
       "      <td>number_of_bikes_1-2</td>\n",
       "    </tr>\n",
       "    <tr>\n",
       "      <th>3</th>\n",
       "      <td>house_occupation_type_renter</td>\n",
       "      <td>number_of_vehicles_0</td>\n",
       "      <td>household_size_1</td>\n",
       "      <td>house_type_little_col</td>\n",
       "      <td>number_of_bikes_0</td>\n",
       "    </tr>\n",
       "    <tr>\n",
       "      <th>4</th>\n",
       "      <td>house_occupation_type_renter</td>\n",
       "      <td>number_of_vehicles_1</td>\n",
       "      <td>household_size_2</td>\n",
       "      <td>house_type_little_col</td>\n",
       "      <td>number_of_bikes_0</td>\n",
       "    </tr>\n",
       "    <tr>\n",
       "      <th>5</th>\n",
       "      <td>house_occupation_type_owner</td>\n",
       "      <td>number_of_vehicles_1</td>\n",
       "      <td>household_size_2</td>\n",
       "      <td>house_type_big_col</td>\n",
       "      <td>number_of_bikes_0</td>\n",
       "    </tr>\n",
       "    <tr>\n",
       "      <th>6</th>\n",
       "      <td>house_occupation_type_owner</td>\n",
       "      <td>number_of_vehicles_2</td>\n",
       "      <td>household_size_5</td>\n",
       "      <td>house_type_big_col</td>\n",
       "      <td>number_of_bikes_1-2</td>\n",
       "    </tr>\n",
       "    <tr>\n",
       "      <th>7</th>\n",
       "      <td>house_occupation_type_renter</td>\n",
       "      <td>number_of_vehicles_1</td>\n",
       "      <td>household_size_1</td>\n",
       "      <td>house_type_big_col</td>\n",
       "      <td>number_of_bikes_0</td>\n",
       "    </tr>\n",
       "    <tr>\n",
       "      <th>8</th>\n",
       "      <td>house_occupation_type_renter</td>\n",
       "      <td>number_of_vehicles_1</td>\n",
       "      <td>household_size_1</td>\n",
       "      <td>house_type_big_col</td>\n",
       "      <td>number_of_bikes_5+</td>\n",
       "    </tr>\n",
       "    <tr>\n",
       "      <th>9</th>\n",
       "      <td>house_occupation_type_renter</td>\n",
       "      <td>number_of_vehicles_2</td>\n",
       "      <td>household_size_5</td>\n",
       "      <td>house_type_big_col</td>\n",
       "      <td>number_of_bikes_1-2</td>\n",
       "    </tr>\n",
       "  </tbody>\n",
       "</table>\n",
       "</div>"
      ]
     },
     "execution_count": 6,
     "metadata": {},
     "output_type": "execute_result"
    }
   ],
   "execution_count": 6
  },
  {
   "metadata": {},
   "cell_type": "code",
   "outputs": [],
   "execution_count": null,
   "source": "test.iloc[]",
   "id": "cfff951f52f1b3ee"
  },
  {
   "metadata": {
    "ExecuteTime": {
     "end_time": "2025-04-25T08:59:19.071998Z",
     "start_time": "2025-04-25T08:59:19.066771Z"
    }
   },
   "cell_type": "code",
   "source": [
    "y_train = np.load(f\"{DATA_DIR}/data/Y_train_data_as_sequence.npy\", allow_pickle=True)\n",
    "y_train.shape"
   ],
   "id": "5dd23f4df5045eff",
   "outputs": [
    {
     "data": {
      "text/plain": [
       "(128286, 3)"
      ]
     },
     "execution_count": 5,
     "metadata": {},
     "output_type": "execute_result"
    }
   ],
   "execution_count": 5
  },
  {
   "metadata": {
    "ExecuteTime": {
     "end_time": "2025-04-25T08:59:20.539280Z",
     "start_time": "2025-04-25T08:59:20.530853Z"
    }
   },
   "cell_type": "code",
   "source": "pd.Series(y_train[:, 0]).value_counts(normalize=True)",
   "id": "8025690acc00f196",
   "outputs": [
    {
     "data": {
      "text/plain": [
       "2     0.245514\n",
       "5     0.212884\n",
       "1     0.093611\n",
       "3     0.089129\n",
       "4     0.059749\n",
       "8     0.056772\n",
       "6     0.055696\n",
       "7     0.054301\n",
       "10    0.054012\n",
       "9     0.039279\n",
       "11    0.029652\n",
       "12    0.009401\n",
       "Name: proportion, dtype: float64"
      ]
     },
     "execution_count": 6,
     "metadata": {},
     "output_type": "execute_result"
    }
   ],
   "execution_count": 6
  },
  {
   "metadata": {
    "ExecuteTime": {
     "end_time": "2025-04-25T21:38:57.776248Z",
     "start_time": "2025-04-25T21:38:57.768913Z"
    }
   },
   "cell_type": "code",
   "source": [
    "import torch\n",
    "x = torch.tensor([[1, 2, 3, 4],[5, 6, 7, 8], [9, 10, 11, 12]])\n",
    "x = torch.isin(x, torch.tensor([1, 3, 5], device=x.device))\n",
    "print(x)\n",
    "mask = ~x.unsqueeze(1).unsqueeze(2)\n",
    "print(mask)"
   ],
   "id": "3922657477c30305",
   "outputs": [
    {
     "name": "stdout",
     "output_type": "stream",
     "text": [
      "tensor([[ True, False,  True, False],\n",
      "        [ True, False, False, False],\n",
      "        [False, False, False, False]])\n",
      "tensor([[[[False,  True, False,  True]]],\n",
      "\n",
      "\n",
      "        [[[False,  True,  True,  True]]],\n",
      "\n",
      "\n",
      "        [[[ True,  True,  True,  True]]]])\n"
     ]
    }
   ],
   "execution_count": 8
  }
 ],
 "metadata": {
  "kernelspec": {
   "display_name": "Python 3",
   "language": "python",
   "name": "python3"
  },
  "language_info": {
   "codemirror_mode": {
    "name": "ipython",
    "version": 2
   },
   "file_extension": ".py",
   "mimetype": "text/x-python",
   "name": "python",
   "nbconvert_exporter": "python",
   "pygments_lexer": "ipython2",
   "version": "2.7.6"
  }
 },
 "nbformat": 4,
 "nbformat_minor": 5
}
