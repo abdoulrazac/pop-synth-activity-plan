{
 "cells": [
  {
   "metadata": {
    "ExecuteTime": {
     "end_time": "2025-05-02T09:36:02.082016Z",
     "start_time": "2025-05-02T09:36:01.915628Z"
    }
   },
   "cell_type": "code",
   "source": [
    "## Create a random array shape (6, 4)\n",
    "import numpy as np\n",
    "\n",
    "arr = np.random.rand(6, 4)\n",
    "arr"
   ],
   "id": "84b9acdda9d5238e",
   "outputs": [
    {
     "data": {
      "text/plain": [
       "array([[0.73639666, 0.166678  , 0.46304149, 0.40175927],\n",
       "       [0.08921613, 0.76115958, 0.6780573 , 0.61689878],\n",
       "       [0.43897931, 0.39329874, 0.44365883, 0.01974468],\n",
       "       [0.46133171, 0.13587883, 0.06832373, 0.48647469],\n",
       "       [0.03449602, 0.28625646, 0.1034433 , 0.39155329],\n",
       "       [0.46474876, 0.21142336, 0.10480101, 0.56994037]])"
      ]
     },
     "execution_count": 1,
     "metadata": {},
     "output_type": "execute_result"
    }
   ],
   "execution_count": 1
  },
  {
   "metadata": {
    "ExecuteTime": {
     "end_time": "2025-05-02T09:43:34.918135Z",
     "start_time": "2025-05-02T09:43:34.909996Z"
    }
   },
   "cell_type": "code",
   "source": "np.concatenate((np.array([0] * arr.shape[0]).reshape(-1, 1), arr), axis=1)",
   "id": "25dbf62c9232a85",
   "outputs": [
    {
     "data": {
      "text/plain": [
       "array([[0.        , 0.73639666, 0.166678  , 0.46304149, 0.40175927],\n",
       "       [0.        , 0.08921613, 0.76115958, 0.6780573 , 0.61689878],\n",
       "       [0.        , 0.43897931, 0.39329874, 0.44365883, 0.01974468],\n",
       "       [0.        , 0.46133171, 0.13587883, 0.06832373, 0.48647469],\n",
       "       [0.        , 0.03449602, 0.28625646, 0.1034433 , 0.39155329],\n",
       "       [0.        , 0.46474876, 0.21142336, 0.10480101, 0.56994037]])"
      ]
     },
     "execution_count": 8,
     "metadata": {},
     "output_type": "execute_result"
    }
   ],
   "execution_count": 8
  },
  {
   "metadata": {
    "ExecuteTime": {
     "end_time": "2025-05-02T09:44:46.261598Z",
     "start_time": "2025-05-02T09:44:46.257597Z"
    }
   },
   "cell_type": "code",
   "source": "np.repeat(0, 5).reshape(-1, 1)",
   "id": "c0a3e16ac844648c",
   "outputs": [
    {
     "data": {
      "text/plain": [
       "array([[0],\n",
       "       [0],\n",
       "       [0],\n",
       "       [0],\n",
       "       [0]])"
      ]
     },
     "execution_count": 10,
     "metadata": {},
     "output_type": "execute_result"
    }
   ],
   "execution_count": 10
  },
  {
   "cell_type": "code",
   "execution_count": null,
   "id": "initial_id",
   "metadata": {
    "collapsed": true
   },
   "outputs": [],
   "source": [
    "import torch\n",
    "import torch.nn as nn\n",
    "import torch.nn.functional as F\n",
    "from torch.nn.utils.rnn import pad_sequence\n",
    "\n",
    "# Define PAD tokens\n",
    "PAD_ACTION = -1\n",
    "PAD_DURATION = -1.0\n",
    "PAD_DISTANCE = -1.0\n",
    "\n",
    "class GenerativeLSTM(nn.Module):\n",
    "    def __init__(self, input_size, hidden_size, num_actions, num_layers=1):\n",
    "        super().__init__()\n",
    "        self.hidden_size = hidden_size\n",
    "\n",
    "        self.lstm = nn.LSTM(input_size, hidden_size, num_layers, batch_first=True)\n",
    "\n",
    "        # Separate output heads\n",
    "        self.action_head = nn.Linear(hidden_size, num_actions)  # classification\n",
    "        self.duration_head = nn.Linear(hidden_size, 1)          # regression\n",
    "        self.distance_head = nn.Linear(hidden_size, 1)          # regression\n",
    "\n",
    "    def forward(self, x, hidden=None):\n",
    "        # x: [batch, seq_len, input_size]\n",
    "        lstm_out, hidden = self.lstm(x, hidden)\n",
    "        action_logits = self.action_head(lstm_out)             # [batch, seq_len, num_actions]\n",
    "        duration = self.duration_head(lstm_out).squeeze(-1)    # [batch, seq_len]\n",
    "        distance = self.distance_head(lstm_out).squeeze(-1)    # [batch, seq_len]\n",
    "        return action_logits, duration, distance, hidden\n"
   ]
  },
  {
   "metadata": {},
   "cell_type": "code",
   "outputs": [],
   "execution_count": null,
   "source": [
    "# Dummy training data (simulate variable-length sequences)\n",
    "def generate_dummy_sequence(seq_len, input_size, num_actions):\n",
    "    x = torch.randn(seq_len, input_size)\n",
    "    action = torch.randint(0, num_actions, (seq_len,))\n",
    "    duration = torch.rand(seq_len)\n",
    "    distance = torch.rand(seq_len)\n",
    "    return x, action, duration, distance\n",
    "\n",
    "# Settings\n",
    "batch_size = 3\n",
    "input_size = 8\n",
    "hidden_size = 32\n",
    "num_actions = 5\n",
    "\n",
    "# Create dummy variable-length data\n",
    "sequences = [generate_dummy_sequence(torch.randint(4, 7, (1,)).item(), input_size, num_actions)\n",
    "             for _ in range(batch_size)]\n",
    "\n",
    "# Separate inputs and targets\n",
    "inputs = [seq[0] for seq in sequences]\n",
    "actions = [seq[1] for seq in sequences]\n",
    "durations = [seq[2] for seq in sequences]\n",
    "distances = [seq[3] for seq in sequences]\n",
    "\n",
    "# Pad sequences\n",
    "padded_inputs = pad_sequence(inputs, batch_first=True, padding_value=0.0)\n",
    "padded_actions = pad_sequence(actions, batch_first=True, padding_value=PAD_ACTION)\n",
    "padded_durations = pad_sequence(durations, batch_first=True, padding_value=PAD_DURATION)\n",
    "padded_distances = pad_sequence(distances, batch_first=True, padding_value=PAD_DISTANCE)\n",
    "\n",
    "# Create model\n",
    "model = GenerativeLSTM(input_size=input_size, hidden_size=hidden_size, num_actions=num_actions)\n",
    "\n",
    "# Forward pass\n",
    "action_logits, duration_out, distance_out, _ = model(padded_inputs)\n",
    "\n",
    "# Compute masks (True where valid)\n",
    "mask = (padded_actions != PAD_ACTION)  # [batch, seq_len]\n",
    "\n",
    "# Loss functions\n",
    "action_loss_fn = nn.CrossEntropyLoss(ignore_index=PAD_ACTION)\n",
    "mse_loss = nn.MSELoss(reduction='none')\n",
    "\n",
    "# Action loss (CrossEntropy expects shape [N, C] and targets [N])\n",
    "action_loss = action_loss_fn(action_logits.view(-1, num_actions), padded_actions.view(-1))\n",
    "\n",
    "# Duration & distance loss (masked MSE)\n",
    "duration_loss = mse_loss(duration_out, padded_durations)\n",
    "distance_loss = mse_loss(distance_out, padded_distances)\n",
    "\n",
    "# Apply mask\n",
    "duration_loss = (duration_loss * mask).sum() / mask.sum()\n",
    "distance_loss = (distance_loss * mask).sum() / mask.sum()\n",
    "\n",
    "# Total loss\n",
    "total_loss = action_loss + duration_loss + distance_loss\n",
    "print(\"Total Loss:\", total_loss.item())\n"
   ],
   "id": "1cc61572a9a86afc"
  },
  {
   "metadata": {},
   "cell_type": "code",
   "outputs": [],
   "execution_count": null,
   "source": [
    "def generate(model, start_input, seq_len):\n",
    "    model.eval()\n",
    "    input = start_input.unsqueeze(0).unsqueeze(1)  # [1, 1, input_size]\n",
    "    hidden = None\n",
    "    outputs = []\n",
    "\n",
    "    for _ in range(seq_len):\n",
    "        action_logits, duration_out, distance_out, hidden = model(input, hidden)\n",
    "        action = torch.argmax(action_logits[:, -1], dim=-1).item()\n",
    "        duration = duration_out[:, -1].item()\n",
    "        distance = distance_out[:, -1].item()\n",
    "\n",
    "        outputs.append((action, duration, distance))\n",
    "\n",
    "        # Prepare next input (you may design your own input strategy here)\n",
    "        next_input = torch.randn_like(start_input).unsqueeze(0).unsqueeze(1)\n",
    "        input = next_input\n",
    "\n",
    "    return outputs"
   ],
   "id": "a72ab0cc63239a8a"
  }
 ],
 "metadata": {
  "kernelspec": {
   "display_name": "Python 3",
   "language": "python",
   "name": "python3"
  },
  "language_info": {
   "codemirror_mode": {
    "name": "ipython",
    "version": 2
   },
   "file_extension": ".py",
   "mimetype": "text/x-python",
   "name": "python",
   "nbconvert_exporter": "python",
   "pygments_lexer": "ipython2",
   "version": "2.7.6"
  }
 },
 "nbformat": 4,
 "nbformat_minor": 5
}
